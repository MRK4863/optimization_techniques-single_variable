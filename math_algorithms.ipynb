{
 "cells": [
  {
   "cell_type": "markdown",
   "metadata": {},
   "source": [
    "# MATH ALGORITHMS\n",
    "## Imported libraries\n",
    "- NumPy\n",
    "- Math"
   ]
  },
  {
   "cell_type": "code",
   "execution_count": null,
   "metadata": {},
   "outputs": [],
   "source": [
    "import math\n",
    "import numpy"
   ]
  },
  {
   "cell_type": "markdown",
   "metadata": {},
   "source": [
    "# Functions\n",
    "- f(x) for function value at\n",
    "- fd(x) for slope at x"
   ]
  },
  {
   "cell_type": "code",
   "execution_count": null,
   "metadata": {},
   "outputs": [],
   "source": [
    "def f(x):\n",
    "    x=float(x);\n",
    "    #function\n",
    "    #ff=(x**4)-5*(x**3)+2*(x**2)+4*x+5;\n",
    "    #ff=math.cos(x)+4*(x**6);\n",
    "    ff=(x**4)+10*(x**2)+x-math.exp(0.2*x);\n",
    "    return ff\n",
    "\n",
    "def fd(x):\n",
    "    x=float(x);\n",
    "    if abs(x)>0.01:\n",
    "        dx=0.01*abs(x);\n",
    "    else:\n",
    "        dx=0.0001;\n",
    "    ff=(f(x+dx)-f(x-dx))/(2*dx);\n",
    "    return ff;\n",
    "\n",
    "def fdd(x):\n",
    "    x=float(x);\n",
    "    if abs(x)>0.01:\n",
    "        dx=0.01*abs(x);\n",
    "    else:\n",
    "        dx=0.0001;\n",
    "    ff=(f(x+dx)-2*f(x)+f(x-dx))/((dx)**2);\n",
    "    #print(f(x+dx),f(x),f(x-dx),dx)\n",
    "    return ff;\n",
    "\n"
   ]
  },
  {
   "cell_type": "code",
   "execution_count": null,
   "metadata": {},
   "outputs": [],
   "source": [
    "i=-3;\n",
    "while i<5:\n",
    "    print(\"x=\",i,\"f(x)\",f(i))\n",
    "    i=i+1;"
   ]
  },
  {
   "cell_type": "markdown",
   "metadata": {},
   "source": [
    "# 1. Exhaustive Search Method"
   ]
  },
  {
   "cell_type": "code",
   "execution_count": null,
   "metadata": {},
   "outputs": [],
   "source": [
    "a=float(input(\"interval start :\"));\n",
    "b=float(input(\"interval end :\"));\n",
    "n=float(input(\"no. of intervals :\"));\n",
    "del_x=(b-a)/(n);\n",
    " \n",
    "i=1     #iteration number\n",
    "(x1,x2,x3)=(a,a+del_x,a+2*del_x);\n",
    "(f1,f2,f3)=(0.0,0.0,0.0)\n",
    "while x3<b:\n",
    "    print(\"\\niteration \",i)\n",
    "    i=i+1\n",
    "    (f1,f2,f3)=(f(x1),f(x2),f(x3))\n",
    "    \n",
    "    print(\"x1 =\",x1,\"f(x1)=\",f(x1))\n",
    "    print(\"x2 =\",x2,\"f(x2)=\",f(x2))\n",
    "    print(\"x3 =\",x3,\"f(x3)=\",f(x3))\n",
    "    \n",
    "    if f3>f2 and f1>f2:\n",
    "        print(\"\\nminimum occurs between \"+str(x1)+\" and \"+str(x3));\n",
    "        break;\n",
    "    else:\n",
    "        (x1,x2,x3)=(x1+del_x,x2+del_x,x3+del_x)\n",
    "    \n",
    "    "
   ]
  },
  {
   "cell_type": "markdown",
   "metadata": {},
   "source": [
    "# 2.Bounding Phase Method"
   ]
  },
  {
   "cell_type": "code",
   "execution_count": null,
   "metadata": {},
   "outputs": [],
   "source": [
    "x0=float(input(\"enter the value of x0 :\"));\n",
    "d=float(input(\"enter the value of delta :\"));\n",
    "\n",
    "if f(x0+d)>f(x0) and f(x0)>f(x0+d):\n",
    "    d=abs(d);\n",
    "elif (x0+d)<f(x0) and f(x0)<f(x0+d):\n",
    "    d=-abs(d);\n",
    "print(\"delta\",d)  \n",
    "x_k=x0\n",
    "x_kn=1000;\n",
    "xs=[]\n",
    "k=1\n",
    "while (f(x_kn)!=f(x_k)):\n",
    "    print(\"iteration \",k)\n",
    "    x_kn=x_k+(2**k)*d;\n",
    "    xs.append(x_kn)\n",
    "    k=k+1\n",
    "    \n",
    "    print(\"x(k) =\",x_k,\"\\tf(x(k))=\",f(x_k))\n",
    "    print(\"x(k+1) =\",x_kn,\"\\tf(x(k+1))=\",f(x_kn))\n",
    "    \n",
    "    if f(x_kn)<f(x_k):\n",
    "        x_k=x_kn\n",
    "        continue;\n",
    "    elif f(x_kn)>f(x_k):\n",
    "        break;"
   ]
  },
  {
   "cell_type": "markdown",
   "metadata": {},
   "source": [
    "# 3.Interval Halving Method"
   ]
  },
  {
   "cell_type": "code",
   "execution_count": null,
   "metadata": {},
   "outputs": [],
   "source": [
    "a=float(input(\"interval start :\"));\n",
    "b=float(input(\"interval end :\"));\n",
    "e=float(input(\"enter epselon :\"));\n",
    "\n",
    "(f1,fm,f2)=(0.0,0.0,0.0)\n",
    "L=b-a\n",
    "i=1\n",
    "while L>e:\n",
    "    print(\"\\nIteration\",i)\n",
    "    xm=(a+b)/2\n",
    "    L=b-a\n",
    "    x1=a+L/4\n",
    "    x2=b-L/4\n",
    "    \n",
    "    (f1,fm,f2)=(f(x1),f(xm),f(x2));\n",
    "    \n",
    "    print(\"x1 =\",x1,\"f(x1)=\",f(x1))\n",
    "    print(\"xm =\",xm,\"f(x2)=\",f(xm))\n",
    "    print(\"x2 =\",x2,\"f(x3)=\",f(x2))\n",
    "\n",
    "    if f1>fm and fm>f2:\n",
    "        print(\"f(x1)>f(x2)\",\"eliminate [\",a,\",\",xm,\"]\");\n",
    "        a=xm\n",
    "    elif f1<fm and fm<f2:\n",
    "        print(\"f(x1)<f(x2)\",\"eliminate [\",xm,\",\",b,\"]\");\n",
    "        b=xm\n",
    "    elif f1>fm and fm<f2:\n",
    "        a=x1\n",
    "        b=x2\n",
    "    print(\"the length of interval at the end of iteration\",i,\"is\",b-a);\n",
    "    i=i+1;\n",
    "        \n",
    "print('\\nmin. lies in between',a,\"and\",b) "
   ]
  },
  {
   "cell_type": "markdown",
   "metadata": {},
   "source": [
    "# 4. Fibanocci Search Method"
   ]
  },
  {
   "cell_type": "code",
   "execution_count": null,
   "metadata": {},
   "outputs": [],
   "source": [
    "(F0,F1)=(1,1)\n",
    "fib=[F0,F1]\n",
    "for i in range(100):\n",
    "    temp=fib[len(fib)-1]+fib[len(fib)-2]\n",
    "    fib.append(temp)\n",
    "\n",
    "a=float(input(\"interval start :\"));\n",
    "b=float(input(\"interval end :\"));\n",
    "e=float(input(\"enter epselon :\"));\n",
    "n=int(input(\"enter the number function evaluations :\"))\n",
    "\n",
    "L=b-a\n",
    "k=1\n",
    "i=1\n",
    "Lf=100000;#initial value\n",
    "\n",
    "while Lf>e and k<=n:\n",
    "    print(\"\\niteration\", i)\n",
    "    i=i+1\n",
    "    k=k+1\n",
    "    print(\"k=\",k)\n",
    "   \n",
    "    \n",
    "    Lk=(fib[n-k+1]/float(fib[n+1]))*L\n",
    "    print(Lk,L,fib[n-k+1],fib[n+1])\n",
    "    \n",
    "    (x1,x2)=(a+Lk,b-Lk);\n",
    "    (f1,f2)=(f(x1),f(x2))\n",
    "    print(\"x1 =\",x1,\"f(x1)=\",f(x1))\n",
    "    print(\"x2 =\",x2,\"f(x2)=\",f(x2))\n",
    "    \n",
    "    if f1>f2:\n",
    "        print(\"f(x1)>f(x2)\",\"eliminate [\",a,\",\",x1,\"]\");\n",
    "        a=x1\n",
    "    elif f1<f2:\n",
    "        print(\"f(x1)<f(x2)\",\"eliminate [\",x2,\",\",b,\"]\");\n",
    "        b=x2\n",
    "    else:\n",
    "        continue;\n",
    "    Lf=b-a\n",
    "    print(\"length of interval after iteration = \",Lf)\n",
    "\n",
    "print('\\nmin. lies in between',a,\"and\",b) "
   ]
  },
  {
   "cell_type": "markdown",
   "metadata": {},
   "source": [
    "# 5. Golden Section-Ratio Method"
   ]
  },
  {
   "cell_type": "code",
   "execution_count": null,
   "metadata": {},
   "outputs": [],
   "source": [
    "a=float(input(\"enter initial point : \"));\n",
    "b=float(input(\"enter final point : \"));\n",
    "e=float(input(\"enter the value of epselon : \"))\n",
    "\n",
    "def w(x):\n",
    "    w=(float(x)-a)/(b-a);\n",
    "    return w;\n",
    "def x(w):\n",
    "    x=float(w)*(b-a)+a;\n",
    "    return x;\n",
    "\n",
    "k=1;\n",
    "(aw,bw,Lw)=(0,1,1);\n",
    "    \n",
    "while (Lw>e):\n",
    "    print(\"aw={} ,\\tbw={}\".format(aw,bw));\n",
    "    (w1,w2)=(aw+0.618*Lw, bw-0.618*Lw);\n",
    "    (xw1,xw2)=(x(w1),x(w2));\n",
    "    (fw1,fw2)=(f(xw1),f(xw2));\n",
    "    print(\"interation : \",k);\n",
    "    k=k+1;\n",
    "    print(\"f(w1)=\",fw1,\"\\tf(w2)=\",fw2);\n",
    "    if fw2>fw1:\n",
    "        print(\"f(w1)>f(w2)\",\"eliminate [\",aw,\",\",w2,\"]\");\n",
    "        aw=w2\n",
    "    elif fw2<fw1:\n",
    "        print(\"f(w1)<f(w2)\",\"eliminate [\",w1,\",\",bw,\"]\");\n",
    "        bw=w1\n",
    "    else:\n",
    "        continue;\n",
    "    Lw=bw-aw;\n",
    "    print(\"\\n\\n\\nNew interval =[{},{}],\\nLength of interval after elimination={}\\n\".format(aw,bw,Lw));\n",
    "\n",
    "    \n",
    "print(\"minimum lies in \", x(aw),\" and \", x(bw));"
   ]
  },
  {
   "cell_type": "markdown",
   "metadata": {},
   "source": [
    "# 6. Succesive Quadratic Estimation Method"
   ]
  },
  {
   "cell_type": "code",
   "execution_count": null,
   "metadata": {},
   "outputs": [],
   "source": [
    "x1=float(input(\"enter initial point : \"));\n",
    "d=float(input(\"enter the step size : \"));\n",
    "e=float(input(\"enter the value of epselon : \"))\n",
    "x2=x1+d;\n",
    "(x3,xmin,xd,fmin,fxd)=(0,1000,0,1000,0);\n",
    "\n",
    "if f(x1)>f(x2):\n",
    "    x3=x1+2*d;\n",
    "elif f(x1)<f(x2):\n",
    "    x3=x1-d;\n",
    "\n",
    "\n",
    "ii=1;\n",
    "while (abs(fmin-fxd)>e or abs(xmin-xd)>e):  \n",
    "    (f1,f2,f3)=(f(x1),f(x2),f(x3));\n",
    "    load=[(x1,f(x1)),(x2,f(x2)),(x3,f(x3))];\n",
    "    fmin=min(f1,f2,f3);\n",
    "    #print(f1,f2,f3,fmin,fxd);\n",
    "    print(\"\\ninteration : \",ii);\n",
    "    ii=ii+1;\n",
    "    for i in load:\n",
    "        if i[1]==fmin:\n",
    "            xmin=i[0];\n",
    "            \n",
    "    (a0,a1,a2)=(f1,(f2-f1)/(x2-x1),((f3-f1)*(x2-x1)-(f2-f1)*(x3-x1))/((x3-x1)*(x2-x1)*(x3-x2)));\n",
    "    print(\"a0= \", a0, \"\\ta1=\",a1,\"\\ta2=\",a2);\n",
    "    if (a2<0):\n",
    "        print(\"a2<0........INVALID............terminating\");\n",
    "        break;\n",
    "    xd=(x1+x2)/2-(a1/(2*a2))\n",
    "    fxd=f(xd);\n",
    "    load.append((xd,fxd));\n",
    "    \n",
    "    load.sort();\n",
    "\n",
    "    el_max=max(fmin,f1,f2,f3)\n",
    "    for i in range(4):\n",
    "        if load[i][1]==el_max:\n",
    "            index=i;\n",
    "    load.remove(load[index]);\n",
    "    load.sort();\n",
    "    print(\"x1 =\",x1,\"\\tf(x1)=\",f1);\n",
    "    print(\"x2 =\",x2,\"\\tf(x2)=\",f2);\n",
    "    print(\"x3 =\",x3,\"\\tf(x3)=\",f3);\n",
    "    print(\"x_min =\",xmin,\"\\tfmin(x)=\",fmin);\n",
    "    print(\"xd =\",xd,\"\\tf(xd)=\",fxd);\n",
    "    \n",
    "    (x1,x2,x3)=(load[0][0],load[1][0],load[2][0]);\n",
    "    \n",
    "    #(x1,x2,x3)=(load[0][0],load[1][0],load[2][0])\n",
    "    #(f1,f2,f3)=(load[0][1],load[1][1],load[2][1])"
   ]
  },
  {
   "cell_type": "markdown",
   "metadata": {},
   "source": [
    "# 7. Bisection Method"
   ]
  },
  {
   "cell_type": "code",
   "execution_count": null,
   "metadata": {},
   "outputs": [],
   "source": [
    "a=float(input(\"interval start :\"));\n",
    "b=float(input(\"interval end :\"));\n",
    "e=float(input(\"enter epselon :\"));\n",
    "z=1000\n",
    "i=1;\n",
    "\n",
    "while (abs(fd(z))>e):\n",
    "    print(\"\\niteration\", i);\n",
    "    i=i+1;\n",
    "    \n",
    "    z=(a+b)/2;\n",
    "    fdz=fd(z);\n",
    "    print(\"a = \",a,\"\\tb = \",b);\n",
    "    print(\"z=\",z,\"f'(z)=\",fdz);\n",
    "    if fdz<0:\n",
    "        a=z;\n",
    "    elif fdz>0:\n",
    "        b=z;\n",
    "        \n",
    "print(\"minimum occurs at \", z)"
   ]
  },
  {
   "cell_type": "markdown",
   "metadata": {},
   "source": [
    "# 8. Secant Method"
   ]
  },
  {
   "cell_type": "code",
   "execution_count": null,
   "metadata": {},
   "outputs": [],
   "source": [
    "a=float(input(\"interval start :\"));\n",
    "b=float(input(\"interval end :\"));\n",
    "e=float(input(\"enter epselon :\"));\n",
    "z=1000\n",
    "i=1;\n",
    "\n",
    "while (abs(fd(z))>e):\n",
    "    print(\"\\niteration\", i);\n",
    "    i=i+1;\n",
    "    \n",
    "    z=b-(b-a)*fd(b)/(fd(b)-fd(a));\n",
    "    fdz=fd(z);\n",
    "    print(\"a = \",a,\"\\tb = \",b);\n",
    "    print(\"f'(a) = \",fd(a),\"\\tf'(b) = \",fd(b));\n",
    "    print(\"z=\",z,\"\\nf'(z)=\",fdz);\n",
    "    if fdz<0:\n",
    "        a=z;\n",
    "    elif fdz>0:\n",
    "        b=z;\n",
    "        \n",
    "print(\"minimum occurs at \", z)"
   ]
  },
  {
   "cell_type": "markdown",
   "metadata": {},
   "source": [
    "# 9. Newton's Raphson Method"
   ]
  },
  {
   "cell_type": "code",
   "execution_count": null,
   "metadata": {},
   "outputs": [],
   "source": [
    "x0=float(input(\"Enter the initial point x0 : \"));\n",
    "e=float(input(\"Enter the epselon(termination parameter) : \"));\n",
    "\n",
    "xk=x0;\n",
    "f1=fd(xk);\n",
    "i=0;\n",
    "while(abs(f1)>e):\n",
    "    i=i+1;\n",
    "    xkp1=xk-fd(xk)/fdd(xk);\n",
    "    f1=fd(xkp1);\n",
    "    print(\"\\n\\nITERTAION\",i);\n",
    "    print(\"f'(x[k])=\",fd(xk),\"\\tf''(x[k])=\",fdd(xk));\n",
    "    print(\"x[k+1]=\",xkp1,\"\\tf'(x[k+1])=\",f1);\n",
    "    xk=xkp1;\n",
    "\n",
    "print(\"The minimum occurs in \", xk);"
   ]
  },
  {
   "cell_type": "code",
   "execution_count": null,
   "metadata": {},
   "outputs": [],
   "source": [
    "fdd(0.3)"
   ]
  }
 ],
 "metadata": {
  "kernelspec": {
   "display_name": "Python 3",
   "language": "python",
   "name": "python3"
  },
  "language_info": {
   "codemirror_mode": {
    "name": "ipython",
    "version": 3
   },
   "file_extension": ".py",
   "mimetype": "text/x-python",
   "name": "python",
   "nbconvert_exporter": "python",
   "pygments_lexer": "ipython3",
   "version": "3.7.6"
  }
 },
 "nbformat": 4,
 "nbformat_minor": 2
}
